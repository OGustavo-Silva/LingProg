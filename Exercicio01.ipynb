{
 "cells": [
  {
   "cell_type": "markdown",
   "metadata": {},
   "source": [
    "1 Faça um Programa que peça o raio de um círculo, calcule e mostre sua área."
   ]
  },
  {
   "cell_type": "code",
   "execution_count": 5,
   "metadata": {},
   "outputs": [
    {
     "name": "stdout",
     "output_type": "stream",
     "text": [
      "Digite o raio o circulo: 5\n"
     ]
    },
    {
     "data": {
      "text/plain": [
       "78.53981633974483"
      ]
     },
     "execution_count": 5,
     "metadata": {},
     "output_type": "execute_result"
    }
   ],
   "source": [
    "import math\n",
    "\n",
    "raio = int(input(\"Digite o raio o circulo: \"))\n",
    "area = (math.pi)*(raio**2)\n",
    "area"
   ]
  },
  {
   "cell_type": "markdown",
   "metadata": {},
   "source": [
    "2 Faça um Programa que calcule a área de um quadrado, em seguida mostre o dobro\n",
    "desta área para o usuário."
   ]
  },
  {
   "cell_type": "code",
   "execution_count": 18,
   "metadata": {},
   "outputs": [
    {
     "name": "stdout",
     "output_type": "stream",
     "text": [
      "Informe um número para ser um lado do quadrado: 8\n",
      "O dobro da área do valor informado é  128\n"
     ]
    }
   ],
   "source": [
    "peri = int(input(\"Informe um número para ser um lado do quadrado: \"))\n",
    "area = peri*peri\n",
    "dobro = area*2\n",
    "print(\"O dobro da área do valor informado é \",dobro)"
   ]
  },
  {
   "cell_type": "markdown",
   "metadata": {},
   "source": [
    "3 Faça um Programa que pergunte quanto você ganha por hora e o número de horas\n",
    "trabalhadas no mês. Calcule e mostre o total do seu salário no referido mês."
   ]
  },
  {
   "cell_type": "code",
   "execution_count": 20,
   "metadata": {},
   "outputs": [
    {
     "name": "stdout",
     "output_type": "stream",
     "text": [
      "Digite o quanto você ganha por hora: 5.5\n",
      "informe as horas trabalhadas no mês: 100\n",
      "Seu salário deverá ser de: R$ 550.0\n"
     ]
    }
   ],
   "source": [
    "ganho = float(input(\"Digite o quanto você ganha por hora: \"))\n",
    "horas = int(input(\"informe as horas trabalhadas no mês: \"))\n",
    "salario = ganho*horas\n",
    "print(\"Seu salário deverá ser de: R$\",salario)"
   ]
  },
  {
   "cell_type": "markdown",
   "metadata": {},
   "source": [
    "4 Faça um Programa que peça a temperatura em graus Farenheit, transforme e\n",
    "mostre a temperatura em graus Celsius. C = (5 * (F-32) / 9)."
   ]
  },
  {
   "cell_type": "code",
   "execution_count": null,
   "metadata": {},
   "outputs": [],
   "source": [
    "float(input(\"Informe a temperatura em Farenheit\"))"
   ]
  }
 ],
 "metadata": {
  "kernelspec": {
   "display_name": "Python 3",
   "language": "python",
   "name": "python3"
  },
  "language_info": {
   "codemirror_mode": {
    "name": "ipython",
    "version": 3
   },
   "file_extension": ".py",
   "mimetype": "text/x-python",
   "name": "python",
   "nbconvert_exporter": "python",
   "pygments_lexer": "ipython3",
   "version": "3.6.7"
  }
 },
 "nbformat": 4,
 "nbformat_minor": 4
}
