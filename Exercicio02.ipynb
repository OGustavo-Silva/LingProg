{
 "cells": [
  {
   "cell_type": "markdown",
   "metadata": {},
   "source": [
    "1 Crie um programa que recebe uma lista de números e\n",
    "\n",
    "retorne o maior elemento\n",
    "retorne a soma dos elementos\n",
    "retorne o número de ocorrências do primeiro elemento da lista\n",
    "retorne a média dos elementos\n",
    "retorne o valor mais próximo da média dos elementos\n",
    "retorne a soma dos elementos com valor negativo\n",
    "retorne a quantidade de vizinhos iguais"
   ]
  },
  {
   "cell_type": "code",
   "execution_count": null,
   "metadata": {},
   "outputs": [],
   "source": [
    "lista = [input(\"Informe diversos números separados por vírgula: \")]\n",
    "maior = max(lista) #1\n",
    "soma = sum(lista) #2\n",
    "\n",
    "#3\n",
    "for num in lista:\n",
    "    if(num == lista[0])\n",
    "    ocorre++\n",
    "#4\n",
    "media = sum(lista)/len(lista)\n",
    "\n",
    "#5\n",
    "proximo = {lista: abs(lista - media) for num in lista}\n",
    "\n",
    "#6\n",
    "for (num<0) in lista\n",
    "    soman += num\n",
    "    \n",
    "#7\n",
    "for num in lista\n",
    "    if(num == lista[++])"
   ]
  },
  {
   "cell_type": "markdown",
   "metadata": {},
   "source": [
    "2 Faça um programa que receba duas listas e retorne True se são iguais ou False caso contrario.\n",
    "Duas listas são iguais se possuem os mesmos valores e na mesma ordem.\n"
   ]
  },
  {
   "cell_type": "code",
   "execution_count": 16,
   "metadata": {},
   "outputs": [
    {
     "name": "stdout",
     "output_type": "stream",
     "text": [
      "True\n"
     ]
    }
   ],
   "source": [
    "def listas_iguais(w, z):\n",
    "    res = True\n",
    "    for x in range(0, len(w)):\n",
    "        if(w[x] != z[x]):\n",
    "            res = False\n",
    "            break\n",
    "    return res\n",
    "    \n",
    "print(listas_iguais([1,2,3],[1,2,3]))"
   ]
  },
  {
   "cell_type": "markdown",
   "metadata": {},
   "source": [
    "3 Faça um programa que receba duas listas e retorne True se têm os mesmos elementos ou False caso contrário\n",
    "Duas listas possuem os mesmos elementos quando são compostas pelos mesmos valores, mas não obrigatoriamente na mesma ordem.\n"
   ]
  },
  {
   "cell_type": "code",
   "execution_count": 15,
   "metadata": {},
   "outputs": [
    {
     "name": "stdout",
     "output_type": "stream",
     "text": [
      "True\n"
     ]
    }
   ],
   "source": [
    "def mesmo_elemento(w, z):\n",
    "    for x in w:\n",
    "        if (x in z):\n",
    "            res = True\n",
    "        else:\n",
    "            res = False\n",
    "            break\n",
    "    return res\n",
    "            \n",
    "print(mesmo_elemento([1,2,3],[1,2,3]))"
   ]
  },
  {
   "cell_type": "markdown",
   "metadata": {},
   "source": [
    "4 Faça um programa que percorre uma lista com o seguinte formato: [['Brasil', 'Italia', [10, 9]], ['Brasil', 'Espanha', [5, 7]], ['Italia', 'Espanha', [7,8]]]. Essa lista indica o número de faltas que cada time fez em cada jogo. Na lista acima, no jogo entre Brasil e Itália, o Brasil fez 10 faltas e a Itália fez 9.\n",
    "O programa deve imprimir na tela:\n",
    "- o total de faltas do campeonato \n",
    "- o time que fez mais faltas\n",
    "- o time que fez menos faltas\n"
   ]
  },
  {
   "cell_type": "code",
   "execution_count": 29,
   "metadata": {},
   "outputs": [],
   "source": [
    "def faltas(lst):\n",
    "    # total de faltas\n",
    "    totf = 0\n",
    "    for w in lst:\n",
    "        totf += sum(w[2])\n",
    "        \n",
    "    timesfalta = []\n",
    "    for w in lst:\n",
    "        timesfalta += [[w[0], w[2][0]], w[1],w[2][1]]\n",
    "    \n",
    "    #print(timesfalta)\n",
    "        \n",
    "lst = [['Brasil', 'Italia', [10, 9]], ['Brasil', 'Espanha', [5, 7]], ['Italia', 'Espanha', [7,8]]]\n",
    "faltas(lst)\n",
    "    "
   ]
  },
  {
   "cell_type": "markdown",
   "metadata": {},
   "source": [
    "5 Escreva um programa que conta a quantidade de vogais em uma string e armazena tal quantidade em um dicionário, onde a chave é a vogal considerada."
   ]
  },
  {
   "cell_type": "code",
   "execution_count": 28,
   "metadata": {},
   "outputs": [
    {
     "name": "stdout",
     "output_type": "stream",
     "text": [
      "{'e': 4}\n"
     ]
    }
   ],
   "source": [
    "def qt_vogal(txt, vg):\n",
    "    vg = vg[0]\n",
    "    #quantidadevogal\n",
    "    qtvg = {vg:txt.count(vg)}\n",
    "    return qtvg\n",
    "\n",
    "print(qt_vogal('este e um texto', 'e'))"
   ]
  },
  {
   "cell_type": "markdown",
   "metadata": {},
   "source": [
    "6 Escreva um programa que lê̂ duas notas de vários alunos e armazena tais notas em um dicionário, onde a chave é o nome do aluno. A entrada de dados deve terminar quando for lida uma string vazia como nome. Escreva uma função que retorna a média do aluno, dado seu nome."
   ]
  },
  {
   "cell_type": "code",
   "execution_count": 25,
   "metadata": {},
   "outputs": [
    {
     "name": "stdout",
     "output_type": "stream",
     "text": [
      "Informe o aluno: predo\n",
      "Informe as notas(separadas por ','): 9,5\n",
      "Informe o aluno: ana\n",
      "Informe as notas(separadas por ','): 10,10\n",
      "Informe o aluno: \n",
      "Informe o aluno para ver sua media: predo\n",
      "{'predo': 7.0}\n",
      "Informe o aluno para ver sua media: ana\n",
      "{'ana': 10.0}\n",
      "Informe o aluno para ver sua media: \n"
     ]
    }
   ],
   "source": [
    "def media(aluno):\n",
    "    notas = alunos[aluno]\n",
    "    media = (int(notas[0])+int(notas[1]))/2\n",
    "    return {aluno: media}\n",
    "    \n",
    "while True:\n",
    "    aluno = input('Informe o aluno: ')\n",
    "    if aluno =='':break\n",
    "    notas = input('Informe as notas(separadas por \\',\\'): ').split(',')\n",
    "    alunos[aluno] = notas[0], notas[1]\n",
    "\n",
    "while True:\n",
    "    aluno = input('Informe o aluno para ver sua media: ')\n",
    "    if aluno =='':break\n",
    "    print(media(aluno))"
   ]
  },
  {
   "cell_type": "code",
   "execution_count": null,
   "metadata": {},
   "outputs": [],
   "source": []
  }
 ],
 "metadata": {
  "kernelspec": {
   "display_name": "Python 3",
   "language": "python",
   "name": "python3"
  },
  "language_info": {
   "codemirror_mode": {
    "name": "ipython",
    "version": 3
   },
   "file_extension": ".py",
   "mimetype": "text/x-python",
   "name": "python",
   "nbconvert_exporter": "python",
   "pygments_lexer": "ipython3",
   "version": "3.7.2"
  }
 },
 "nbformat": 4,
 "nbformat_minor": 4
}
