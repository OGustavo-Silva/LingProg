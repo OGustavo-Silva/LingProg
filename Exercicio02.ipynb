{
 "cells": [
  {
   "cell_type": "markdown",
   "metadata": {},
   "source": [
    "1 Crie um programa que recebe uma lista de números e\n",
    "- retorne o maior elemento\n",
    "- retorne a soma dos elementos\n",
    "- retorne o número de ocorrências do primeiro elemento da lista\n",
    "- retorne a média dos elementos\n",
    "- retorne o valor mais próximo da média dos elementos\n",
    "- retorne a soma dos elementos com valor negativo\n",
    "- retorne a quantidade de vizinhos iguais"
   ]
  },
  {
   "cell_type": "code",
   "execution_count": null,
   "metadata": {},
   "outputs": [],
   "source": [
    "lista = [input(\"Informe diversos números separados por vírgula: \")]\n",
    "maior = max(lista) #1\n",
    "soma = sum(lista) #2\n",
    "\n",
    "#3\n",
    "for num in lista:\n",
    "    if(num == lista[0])\n",
    "    ocorre++\n",
    "#4\n",
    "media = sum(lista)/len(lista)\n",
    "\n",
    "#5\n",
    "proximo = {lista: abs(lista - media) for num in lista}\n",
    "\n",
    "#6\n",
    "for (num<0) in lista\n",
    "    soman += num\n",
    "    \n",
    "#7\n",
    "for num in lista\n",
    "    if(num == lista[++])"
   ]
  }
 ],
 "metadata": {
  "kernelspec": {
   "display_name": "Python 3",
   "language": "python",
   "name": "python3"
  },
  "language_info": {
   "codemirror_mode": {
    "name": "ipython",
    "version": 3
   },
   "file_extension": ".py",
   "mimetype": "text/x-python",
   "name": "python",
   "nbconvert_exporter": "python",
   "pygments_lexer": "ipython3",
   "version": "3.7.6"
  }
 },
 "nbformat": 4,
 "nbformat_minor": 4
}
