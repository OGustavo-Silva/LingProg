{
 "cells": [
  {
   "cell_type": "markdown",
   "metadata": {},
   "source": [
    "1 - FAÇA UM PROGRAMA QUE PEÇA DOIS NUMEROS E IMPRIMA O MAIOR DELES"
   ]
  },
  {
   "cell_type": "code",
   "execution_count": null,
   "metadata": {},
   "outputs": [],
   "source": [
    "num1 = int(input(\"Digite o primeiro número: \"))\n",
    "num2 = int(input(\"Digite o segundo número: \"))\n",
    "\n",
    "if(num1 > num2):\n",
    "    print(num1)\n",
    "elif(num2 > num1):\n",
    "    print(num2)\n",
    "else:\n",
    "    print(\"Numeros sao iguais\")"
   ]
  },
  {
   "cell_type": "markdown",
   "metadata": {},
   "source": [
    "2.Faça um Programa que verifique se uma letra digitada é vogal ou consoante."
   ]
  },
  {
   "cell_type": "code",
   "execution_count": null,
   "metadata": {},
   "outputs": [],
   "source": [
    "letra = input(\"Digite uma letra: \")\n",
    "if(letra in set(['a', 'e', 'i', 'o', 'u'])):\n",
    "    print(\"VOGAL\")\n",
    "else:\n",
    "    print(\"CONSOANTE\")"
   ]
  },
  {
   "cell_type": "markdown",
   "metadata": {},
   "source": [
    "3.Faça um programa para a leitura de duas notas parciais de um aluno. O programa deve calcular a média alcançada por aluno e apresentar:\n",
    "A mensagem \"Aprovado\", se a média alcançada for maior ou igual a sete;\n",
    "A mensagem \"Reprovado\", se a média for menor do que sete;\n",
    "A mensagem \"Aprovado com Distinção\", se a média for igual a dez."
   ]
  },
  {
   "cell_type": "code",
   "execution_count": null,
   "metadata": {},
   "outputs": [],
   "source": [
    "nota1 = int(input(\"Digite a primeira nota(1-10): \"))\n",
    "nota2 = int(input(\"Digite a segunda nota(1-10):\"))\n",
    "media = (nota1+nota2)/2\n",
    "\n",
    "if(media < 7):\n",
    "    print(\"REPROVADO\")\n",
    "elif(media == 10):\n",
    "    print(\"APROVADO COM DISTINÇÃO\")\n",
    "else:\n",
    "    print(\"APROVADO\")"
   ]
  },
  {
   "cell_type": "markdown",
   "metadata": {},
   "source": [
    "4. Faça um Programa que leia três números e mostre-os em ordem decrescente."
   ]
  },
  {
   "cell_type": "code",
   "execution_count": null,
   "metadata": {},
   "outputs": [],
   "source": [
    "num1 = int(input(\"Digite o primeiro numero: \"))\n",
    "num2 = int(input(\"Digite o segundo numero: \"))\n",
    "num3 = int(input(\"Digite o terceiro numero: \"))\n",
    "\n",
    "if(num3 > num2):\n",
    "    aux = num3\n",
    "    num3 = num2\n",
    "    num2 = aux\n",
    "if(num2 > num1):\n",
    "    aux = num2\n",
    "    num2 = num1\n",
    "    num1 = aux\n",
    "if(num3 > num2):\n",
    "    aux = num3\n",
    "    num3 = num2\n",
    "    num2 = aux\n",
    "    \n",
    "    \n",
    "print(num1,\",\", num2,\",\", num3)"
   ]
  },
  {
   "cell_type": "markdown",
   "metadata": {},
   "source": [
    "5. As Organizações Tabajara resolveram dar um aumento de salário aos seus colaboradores e lhe contrataram para desenvolver o programa que calculará os reajustes. Faça um programa que recebe o salário de um colaborador e o reajuste segundo o seguinte critério, baseado no salário atual:\n",
    "salários até R$ 280,00 (incluindo) : aumento de 20%\n",
    "salários entre R$ 280,00 e R$ 700,00 : aumento de 15%\n",
    "salários entre R$ 700,00 e R$ 1500,00 : aumento de 10%\n",
    "salários de R$ 1500,00 em diante : aumento de 5% Após o aumento ser realizado, informe na tela:\n",
    "o salário antes do reajuste;\n",
    "o percentual de aumento aplicado;\n",
    "o valor do aumento;\n",
    "o novo salário, após o aumento."
   ]
  },
  {
   "cell_type": "code",
   "execution_count": null,
   "metadata": {},
   "outputs": [],
   "source": [
    "salatual = float(input(\"Digite o salario atual: \"))\n",
    "\n",
    "if(salatual <= 280):\n",
    "    porc = 20\n",
    "    salnovo = salatual + (salatual*porc)/100\n",
    "    \n",
    "elif(salatual > 280 and salatual <= 700):\n",
    "    porc = 15\n",
    "    salnovo = salatual +  (salatual*porc)/100\n",
    "    \n",
    "elif(salatual > 700 and salatual <= 1500):\n",
    "    porc = 10\n",
    "    salnovo = salatual + (salatual*porc)/100\n",
    "    \n",
    "else:\n",
    "    porc = 5\n",
    "    salnovo = salatual + (salatual*porc)/100\n",
    "    \n",
    "aum = (salatual*porc)/100\n",
    "\n",
    "print(\"Salario original: \",salatual,\"\\nPercentual aplicado: \",porc,\"\\nValor do aumento: \",aum,\"\\nNovo salario: \",salnovo)"
   ]
  },
  {
   "cell_type": "code",
   "execution_count": null,
   "metadata": {},
   "outputs": [],
   "source": [
    "6. Faça um Programa que leia um número e exiba o dia correspondente da semana.\n",
    "(1-Domingo, 2- Segunda, etc.), se digitar outro valor deve aparecer valor inválido."
   ]
  },
  {
   "cell_type": "code",
   "execution_count": 20,
   "metadata": {},
   "outputs": [
    {
     "name": "stdin",
     "output_type": "stream",
     "text": [
      "Informe o dia em número(1-7):  5\n"
     ]
    },
    {
     "name": "stdout",
     "output_type": "stream",
     "text": [
      "Quinta\n"
     ]
    }
   ],
   "source": [
    "datas = ['Domingo', 'Segunda', 'Terça', 'Quarta', 'Quinta', 'Sexta', 'Sabado']\n",
    "dia = int(input(\"Informe o dia em número(1-7): \"))\n",
    "dia -= 1\n",
    "print(datas[dia])"
   ]
  },
  {
   "cell_type": "code",
   "execution_count": null,
   "metadata": {},
   "outputs": [],
   "source": [
    "7. Faça um programa que lê as duas notas parciais obtidas por um aluno numa\n",
    "disciplina ao longo de um semestre, e calcule a sua média. A atribuição de conceitos\n",
    "obedece à tabela abaixo:\n",
    "Média de Aproveitamento Conceito\n",
    "Entre 9.0 e 10.0 A\n",
    "Entre 7.5 e 9.0 B\n",
    "Entre 6.0 e 7.5 C\n",
    "Entre 4.0 e 6.0 D\n",
    "Entre 4.0 e zero E\n",
    "O algoritmo deve mostrar na tela as notas, a média, o conceito correspondente e a\n",
    "mensagem “APROVADO” se o conceito for A, B ou C ou “REPROVADO” se o conceito\n",
    "for D ou E."
   ]
  },
  {
   "cell_type": "code",
   "execution_count": 35,
   "metadata": {},
   "outputs": [
    {
     "name": "stdin",
     "output_type": "stream",
     "text": [
      "Digite a primeira nota:  7.5\n",
      "Digite a segunda nota:  9\n"
     ]
    },
    {
     "name": "stdout",
     "output_type": "stream",
     "text": [
      "Aluno:  APROVADO \n",
      "Media:  8.25 \n",
      "Conceito corresp:  B\n"
     ]
    }
   ],
   "source": [
    "n1 = float(input(\"Digite a primeira nota: \"))\n",
    "n2 = float(input(\"Digite a segunda nota: \"))\n",
    "\n",
    "media = (n1+n2)/2\n",
    "\n",
    "if 10 >= media > 9:\n",
    "    conc = 'A'\n",
    "elif 9 >= media > 7.5:\n",
    "    conc = 'B'\n",
    "elif 7.5 >= media > 6:\n",
    "    conc = 'C'\n",
    "elif 6 >= media > 4:\n",
    "    conc = 'D'\n",
    "else:\n",
    "    conc = 'E'\n",
    "\n",
    "if conc in['A','B','C']:\n",
    "    situ = 'APROVADO'\n",
    "else:\n",
    "    situ = 'REPROVADO'\n",
    "\n",
    "print(\"Aluno: \",situ, \"\\nMedia: \",media, \"\\nConceito corresp: \", conc)"
   ]
  },
  {
   "cell_type": "markdown",
   "metadata": {},
   "source": [
    "8. Faça um Programa que peça os 3 lados de um triângulo. O programa deverá\n",
    "informar se os valores podem ser um triângulo. Indique, caso os lados formem um\n",
    "triângulo, se o mesmo é: equilátero, isósceles ou escaleno.\n",
    "Dicas:\n",
    "- Três lados formam um triângulo quando a soma de quaisquer dois lados for maior\n",
    "que o terceiro;\n",
    "- Triângulo Equilátero: três lados iguais;\n",
    "- Triângulo Isósceles: quaisquer dois lados iguais;\n",
    "- Triângulo Escaleno: três lados diferentes;"
   ]
  },
  {
   "cell_type": "code",
   "execution_count": 6,
   "metadata": {},
   "outputs": [
    {
     "name": "stdin",
     "output_type": "stream",
     "text": [
      "Informe um numero:  3\n",
      "Informe um segundo numero:  4\n",
      "Informe o ultimo numero:  8\n"
     ]
    },
    {
     "name": "stdout",
     "output_type": "stream",
     "text": [
      "Os dados informados formam um triangulo:  ESCALENO\n"
     ]
    }
   ],
   "source": [
    "l1 = int(input(\"Informe um numero: \"))\n",
    "l2 = int(input(\"Informe um segundo numero: \"))\n",
    "l3 = int(input(\"Informe o ultimo numero: \"))\n",
    "\n",
    "if (l1+l2>l3) or (l1+l3>l2) or (l2+l3>l1):\n",
    "    if l1==l2==l3:\n",
    "        forma = \"EQUILATERO\"\n",
    "    elif (l1==l2) or(l1==l3) or(l2==l3):\n",
    "        forma = \"ISOSCELES\"\n",
    "    else:\n",
    "        forma = \"ESCALENO\"\n",
    "        \n",
    "    print(\"Os dados informados formam um triangulo: \",forma)\n",
    "else:\n",
    "    print(\"Não e triangulo\")"
   ]
  },
  {
   "cell_type": "code",
   "execution_count": null,
   "metadata": {},
   "outputs": [],
   "source": [
    "9. Faça um programa que calcule as raízes de uma equação do segundo grau, na\n",
    "forma ax2 + bx + c. O programa deverá pedir os valores de a, b e c e fazer as\n",
    "consistências, informando ao usuário nas seguintes situações:\n",
    "- Se o usuário informar o valor de A igual a zero, a equação não é do segundo grau e\n",
    "o programa não deve fazer pedir os demais valores, sendo encerrado;\n",
    "\n",
    "- Se o delta calculado for negativo, a equação não possui raizes reais. Informe ao\n",
    "usuário e encerre o programa;\n",
    "- Se o delta calculado for igual a zero a equação possui apenas uma raiz real;\n",
    "informe-a ao usuário;\n",
    "- Se o delta for positivo, a equação possui duas raiz reais; informe-as ao usuário;"
   ]
  },
  {
   "cell_type": "code",
   "execution_count": 43,
   "metadata": {},
   "outputs": [
    {
     "name": "stdin",
     "output_type": "stream",
     "text": [
      "Informe o primeiro valor:  4\n",
      "Informe o segundo valor:  -4\n",
      "Informe o terceiro valor:  1\n"
     ]
    },
    {
     "name": "stdout",
     "output_type": "stream",
     "text": [
      "4.0\n",
      "Valor do delta:  0.0 \n",
      "X1 =  0.5 \n",
      "X2 =  NAO POSSUI \n",
      "PROGRAMA ENCERRADO\n"
     ]
    }
   ],
   "source": [
    "fim = \"\\nPROGRAMA ENCERRADO\"\n",
    "va = float(input(\"Informe o primeiro valor: \"))\n",
    "if va != 0:\n",
    "    vb = float(input(\"Informe o segundo valor: \"))\n",
    "    vc = float(input(\"Informe o terceiro valor: \"))\n",
    "    \n",
    "    delta = (vb**2) - 4*(va*vc)\n",
    "    if delta >= 0:\n",
    "        raiz = float(delta) ** 0.5\n",
    "        x1 = (-vb + raiz)/(2*va)\n",
    "        print(-vb)\n",
    "        x2 = \"NAO POSSUI\"\n",
    "        \n",
    "        if delta !=0:\n",
    "            x2 = (-vb - raiz)/(2*va)\n",
    "        \n",
    "        print(\"Valor do delta: \",delta, \"\\nX1 = \",x1, \"\\nX2 = \",x2,fim)\n",
    "    else:\n",
    "        print(\"Equacao NAO possui raizes reais\",fim)\n",
    "else:\n",
    "    print(\"Primeiro valor não pode ser 0\",fim)"
   ]
  },
  {
   "cell_type": "code",
   "execution_count": null,
   "metadata": {},
   "outputs": [],
   "source": []
  }
 ],
 "metadata": {
  "kernelspec": {
   "display_name": "Python 3",
   "language": "python",
   "name": "python3"
  },
  "language_info": {
   "codemirror_mode": {
    "name": "ipython",
    "version": 3
   },
   "file_extension": ".py",
   "mimetype": "text/x-python",
   "name": "python",
   "nbconvert_exporter": "python",
   "pygments_lexer": "ipython3",
   "version": "3.7.6"
  }
 },
 "nbformat": 4,
 "nbformat_minor": 4
}
