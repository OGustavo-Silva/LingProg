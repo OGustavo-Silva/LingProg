{
 "cells": [
  {
   "cell_type": "markdown",
   "metadata": {},
   "source": [
    "1 Defina a função soma_nat que recebe como argumento um número natural n\n",
    "e devolve a soma de todos os números naturais até n.\n",
    "Ex: soma_nat(5) = 15"
   ]
  },
  {
   "cell_type": "code",
   "execution_count": 4,
   "metadata": {},
   "outputs": [
    {
     "data": {
      "text/plain": [
       "15"
      ]
     },
     "execution_count": 4,
     "metadata": {},
     "output_type": "execute_result"
    }
   ],
   "source": [
    "class Just:\n",
    "    def __init__(self, valor):\n",
    "        self._valor = valor\n",
    "        \n",
    "    def bind(self, func):\n",
    "        try:\n",
    "            return Just(func(self._valor))\n",
    "        except:\n",
    "            return Nothing()\n",
    "        \n",
    "    def __repr__(self):\n",
    "        return str(self._valor)\n",
    "    \n",
    "class Nothing:\n",
    "    def bind(self, func):\n",
    "        return Nothing()\n",
    "    \n",
    "    def __repr__(self):\n",
    "        return 'Nothing'\n",
    "    \n",
    "#Implementacao soma_nat funcional\n",
    "def soma_nat(n):\n",
    "    return n if n==0 else n+soma_nat(n-1)\n",
    "    \n",
    "Just(5).bind(soma_nat)"
   ]
  },
  {
   "cell_type": "markdown",
   "metadata": {},
   "source": [
    "2 Defina a função div que recebe como argumentos dois números naturais m\n",
    "e n e devolve o resultado da divisão inteira de m por n. Neste exercício você não\n",
    "pode recorrer às operações aritméticas de multiplicação, divisão e resto da divisão\n",
    "inteira.\n",
    "Ex: div(7,2) = 3"
   ]
  },
  {
   "cell_type": "code",
   "execution_count": 28,
   "metadata": {},
   "outputs": [
    {
     "data": {
      "text/plain": [
       "3"
      ]
     },
     "execution_count": 28,
     "metadata": {},
     "output_type": "execute_result"
    }
   ],
   "source": [
    "#Implementando uma list_monad(ou quase isso) para trabalhar com 2args num atributo\n",
    "class ListDiv:\n",
    "    def __init__(self, valores):\n",
    "        self._valores = valores\n",
    "        \n",
    "    def bind(self, func):\n",
    "        try:\n",
    "            return List(func(self._valores[0],self._valores[1]))\n",
    "        except:\n",
    "            return Nothing()\n",
    "    \n",
    "    def __repr__(self):\n",
    "        return str(self._valores)\n",
    "\n",
    "def div(m, n):\n",
    "    return 0 if m<n else 1+div(m-n,n)\n",
    "\n",
    "ListDiv([7,2]).bind(div)"
   ]
  },
  {
   "cell_type": "markdown",
   "metadata": {},
   "source": [
    "3 Defina a função prim_alg que recebe como argumento um número natural e\n",
    "devolve o primeiro algarismo (o mais significativo) na representação decimal de n.\n",
    "Ex: prim_alg(5649) = 5\n",
    "Ex: prim_alg(7) = 7"
   ]
  },
  {
   "cell_type": "code",
   "execution_count": 27,
   "metadata": {},
   "outputs": [
    {
     "data": {
      "text/plain": [
       "5"
      ]
     },
     "execution_count": 27,
     "metadata": {},
     "output_type": "execute_result"
    }
   ],
   "source": [
    "def prim_alg(n):\n",
    "    return n if n < 10 else prim_alg(int(n/10))\n",
    "\n",
    "Just(5649).bind(prim_alg)"
   ]
  },
  {
   "cell_type": "markdown",
   "metadata": {},
   "source": [
    "4 Defina a função prod_lista que recebe como argumento uma lista de inteiros e devolve o produto dos seus elementos.\n",
    "\n",
    "Ex: prod_lista([1,2,3,4,5,6]) = 720"
   ]
  },
  {
   "cell_type": "code",
   "execution_count": 31,
   "metadata": {},
   "outputs": [
    {
     "data": {
      "text/plain": [
       "720"
      ]
     },
     "execution_count": 31,
     "metadata": {},
     "output_type": "execute_result"
    }
   ],
   "source": [
    "def prod_lista(nums):\n",
    "    length = len(nums)\n",
    "    return nums[0] if length <= 1 else nums[0] * prod_lista(nums[1:])\n",
    "\n",
    "Just([1,2,3,4,5,6]).bind(prod_lista)"
   ]
  },
  {
   "cell_type": "markdown",
   "metadata": {},
   "source": [
    "5 Defina a função contem_parQ que recebe como argumento uma lista de números\n",
    "inteiros w e devolve True se w contém um número par e False em caso contrário.\n",
    "Ex: contem_parQ([2,3,1,2,3,4]) = True\n",
    "Ex: contem_parQ([1,3,5,7]) = False"
   ]
  },
  {
   "cell_type": "code",
   "execution_count": 5,
   "metadata": {},
   "outputs": [
    {
     "data": {
      "text/plain": [
       "True"
      ]
     },
     "execution_count": 5,
     "metadata": {},
     "output_type": "execute_result"
    }
   ],
   "source": [
    "def contem_parQ(w):\n",
    "    return False if len(w) == 0 or (w[len(w) - 1] % 2 != 0 and not contem_parQ(w[:-1])) else True\n",
    "    \n",
    "Just([2,3,1,2,3,4]).bind(contem_parQ)"
   ]
  },
  {
   "cell_type": "markdown",
   "metadata": {},
   "source": [
    "6 Defina a função todos_imparesQ que recebe como argumento uma lista de números inteiros w e devolve True se w contém apenas números ímpares e False em caso contrário.\n",
    "\n",
    "Ex: todos_imparesQ([1,3,5,7]) = True Ex: todos_imparesQ([]) = True Ex: todos_imparesQ([1,2,3,4,5]) = False"
   ]
  },
  {
   "cell_type": "code",
   "execution_count": 2,
   "metadata": {},
   "outputs": [
    {
     "data": {
      "text/plain": [
       "True"
      ]
     },
     "execution_count": 2,
     "metadata": {},
     "output_type": "execute_result"
    }
   ],
   "source": [
    "def todos_imparesQ(w):\n",
    "    return True if len(w)==0 or w[len(w) -1]%2 !=0 and todos_imparesQ(w[:-1]) else False\n",
    "\n",
    "Just([1,3,5,7]).bind(todos_imparesQ)"
   ]
  },
  {
   "cell_type": "markdown",
   "metadata": {},
   "source": [
    "7 Defina a função pertenceQ que recebe como argumentos uma lista de números inteiros w e um número inteiro n e devolve True se n ocorre em w e False em caso contrário.\n",
    "\n",
    "Ex: pertenceQ([1,2,3],1) = True \n",
    "Ex: pertenceQ([1,2,3],2) = True \n",
    "Ex: pertenceQ([1,2,3],3) = True \n",
    "Ex: pertenceQ([1,2,3],4) = False"
   ]
  },
  {
   "cell_type": "code",
   "execution_count": 12,
   "metadata": {},
   "outputs": [
    {
     "data": {
      "text/plain": [
       "(True,)"
      ]
     },
     "execution_count": 12,
     "metadata": {},
     "output_type": "execute_result"
    }
   ],
   "source": [
    "class PertenceQJust:\n",
    "    def __init__(self, *args):\n",
    "        self.args = args\n",
    "        \n",
    "    def bind(self, func):\n",
    "        try:\n",
    "            return PertenceQJust(func(self.args[0],self.args[1]))\n",
    "        except:\n",
    "            return Nothing()\n",
    "        \n",
    "    def __repr__(self):\n",
    "        return str(self.args)\n",
    "\n",
    "def pertenceQ(w, n):\n",
    "    return False if len(w)==0 or w[0] != n and not pertenceQ(w[1:],n) else True\n",
    "\n",
    "PertenceQJust([1,2,3],3).bind(pertenceQ)"
   ]
  },
  {
   "cell_type": "markdown",
   "metadata": {},
   "source": [
    "8 Defina a função junta que recebe como argumentos duas listas de números inteiros w1 e w2 e devolve a concatenação de w1 com w2 .\n",
    "\n",
    "Ex: junta([1,2,3],[4,5,6]) = [1, 2, 3, 4, 5, 6] Ex: junta([],[4,5,6]) = [4, 5, 6] Ex: junta([1,2,3],[]) = [1, 2, 3]"
   ]
  },
  {
   "cell_type": "code",
   "execution_count": 16,
   "metadata": {},
   "outputs": [
    {
     "data": {
      "text/plain": [
       "([1, 2, 3, 4, 5],)"
      ]
     },
     "execution_count": 16,
     "metadata": {},
     "output_type": "execute_result"
    }
   ],
   "source": [
    "class List:\n",
    "    def __init__(self, *args):\n",
    "        self._valores = args\n",
    "        \n",
    "    def bind(self, func):\n",
    "        try:\n",
    "            return List(func(self._valores[0],self._valores[1]))\n",
    "        except:\n",
    "            return Nothing()\n",
    "        \n",
    "    def __repr__(self):\n",
    "        return str(self._valores)\n",
    "\n",
    "def junta(w1, w2):\n",
    "    if w2:\n",
    "        w1.append(w2[0])\n",
    "        junta(w1, w2[1:])\n",
    "    return w1\n",
    "\n",
    "List([1,2,3],[4,5]).bind(junta)"
   ]
  },
  {
   "cell_type": "markdown",
   "metadata": {},
   "source": [
    "9 Defina a função temPrimoQ que recebe como argumento uma lista de listas de\n",
    "números inteiros w e devolve True se alguma das sublistas w tem um número\n",
    "primo e False em caso contrário.\n",
    "Ex: temPrimoQ([[4,4,4,4],[5,4,6,7],[2,4,3]]) = True\n",
    "Ex: temPrimoQ([[4,4,4,4],[4,4,4],[],[4]]) = False"
   ]
  },
  {
   "cell_type": "code",
   "execution_count": 21,
   "metadata": {},
   "outputs": [
    {
     "data": {
      "text/plain": [
       "False"
      ]
     },
     "execution_count": 21,
     "metadata": {},
     "output_type": "execute_result"
    }
   ],
   "source": [
    "def temPrimoQ(lista):\n",
    "    res=False\n",
    "    for lst in lista:\n",
    "        for num in lst:\n",
    "            for aux in range(2, num):\n",
    "                if num % aux == 0:\n",
    "                    break\n",
    "            else:\n",
    "                res = True\n",
    "    return res\n",
    "\n",
    "temPrimoQ([[4,4,4,4],[4,4,4],[],[4]])"
   ]
  },
  {
   "cell_type": "markdown",
   "metadata": {},
   "source": [
    "10 Defina a função inverteLista que recebe como argumento uma lista w e devolve a\n",
    "mesma lista mas invertida.\n",
    "Ex: inverteLista([1,2,3,4,5]) = [5, 4, 3, 2, 1]\n",
    "Ex: inverteLista([])"
   ]
  },
  {
   "cell_type": "code",
   "execution_count": 6,
   "metadata": {},
   "outputs": [
    {
     "data": {
      "text/plain": [
       "[3, 2, 1]"
      ]
     },
     "execution_count": 6,
     "metadata": {},
     "output_type": "execute_result"
    }
   ],
   "source": [
    "tst = lambda lista: lista[::-1]\n",
    "tst([1,2,3])"
   ]
  },
  {
   "cell_type": "code",
   "execution_count": null,
   "metadata": {},
   "outputs": [],
   "source": []
  }
 ],
 "metadata": {
  "kernelspec": {
   "display_name": "Python 3",
   "language": "python",
   "name": "python3"
  },
  "language_info": {
   "codemirror_mode": {
    "name": "ipython",
    "version": 3
   },
   "file_extension": ".py",
   "mimetype": "text/x-python",
   "name": "python",
   "nbconvert_exporter": "python",
   "pygments_lexer": "ipython3",
   "version": "3.7.6"
  }
 },
 "nbformat": 4,
 "nbformat_minor": 4
}
