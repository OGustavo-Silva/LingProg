{
 "cells": [
  {
   "cell_type": "markdown",
   "metadata": {},
   "source": [
    "1 Use map() para criar uma função que encontra o comprimento de cada palavra em\n",
    "uma frase (quebrada por espaços) e retorna os valores em um lista. A função deve\n",
    "ter como entrada uma string e como saída uma lista de inteiros.\n",
    "Ex: word_lengths('How long are the words in this phrase') = [3, 4, 3, 3, 5, 2, 4, 6]"
   ]
  },
  {
   "cell_type": "code",
   "execution_count": 80,
   "metadata": {},
   "outputs": [
    {
     "data": {
      "text/plain": [
       "[7, 6, 2]"
      ]
     },
     "execution_count": 80,
     "metadata": {},
     "output_type": "execute_result"
    }
   ],
   "source": [
    "txt = 'Gustavo merece 20'\n",
    "lista = list(map(len, txt.split(\" \")))\n",
    "lista"
   ]
  },
  {
   "cell_type": "markdown",
   "metadata": {},
   "source": [
    "2 Use reduce() para pegar uma lista de inteiros e retornar o número que\n",
    "corresponde à combinação destes dígitos. Por exemplo, [1,2,3] corresponde a cento\n",
    "e vinte e três.\n",
    "Ex: digits_to_num([3,4,3,2,1]) = 34321"
   ]
  },
  {
   "cell_type": "code",
   "execution_count": 5,
   "metadata": {},
   "outputs": [
    {
     "data": {
      "text/plain": [
       "'34321'"
      ]
     },
     "execution_count": 5,
     "metadata": {},
     "output_type": "execute_result"
    }
   ],
   "source": [
    "from functools import reduce\n",
    "\n",
    "lista = [3,4,3,2,1]\n",
    "reduce(lambda x,y: str(x)+str(y), lista)"
   ]
  },
  {
   "cell_type": "markdown",
   "metadata": {},
   "source": [
    "3 Use filter() para retornar as palavras de uma lista de palavras que comecem com\n",
    "uma determinada letra.\n",
    "Ex:\n",
    "l = ['hello','are','cat','dog','ham','hi','go','to','heart']\n",
    "filter_words(l,'h') = ['hello', 'ham', 'hi', 'heart']"
   ]
  },
  {
   "cell_type": "code",
   "execution_count": 4,
   "metadata": {},
   "outputs": [
    {
     "data": {
      "text/plain": [
       "['hello', 'ham', 'hi', 'heart']"
      ]
     },
     "execution_count": 4,
     "metadata": {},
     "output_type": "execute_result"
    }
   ],
   "source": [
    "lista = ['hello','are','cat','dog','ham','hi','go','to','heart']\n",
    "ltr = 'h'\n",
    "\n",
    "filter_words = lambda txt: txt if txt[0]==ltr else 0\n",
    "list(filter(filter_words, lista))"
   ]
  },
  {
   "cell_type": "markdown",
   "metadata": {},
   "source": [
    "4 Considere uma lista de cartas 'A', '2' .. '10', 'J', 'Q', 'K' e outra lista de naipes: 'P', 'E',\n",
    "'O', 'C' (paus, espadas, ouros e copas). Use itertools.product para criar uma lista com\n",
    "todas as combinações de cartas e naipes.\n",
    "Ex: ['PA', 'P2', 'P3', ..., 'PQ', 'PK', 'EA', ..., 'CK']\n",
    "Ex: concatenate(['A','B'],['a','b'],'-') = ['A-a', 'B-b']"
   ]
  },
  {
   "cell_type": "code",
   "execution_count": null,
   "metadata": {},
   "outputs": [],
   "source": []
  },
  {
   "cell_type": "markdown",
   "metadata": {},
   "source": [
    "5 Use itertools.cycle para criar um spinner (a antiga ampulheta do windows) no\n",
    "formato caractere. Use os caracteres \\|/– para simular a rotação. A função spinner\n",
    "recebe como parâmetro o tempo de duração do spinner. Use time.time() para o\n",
    "tempo, sys.stdout.write() para escrever o caractere do spinner, sys.stdout.flush()\n",
    "para disparar a thread e time.sleep() para reduzir a velocidade de rotação."
   ]
  },
  {
   "cell_type": "code",
   "execution_count": null,
   "metadata": {},
   "outputs": [],
   "source": []
  },
  {
   "cell_type": "markdown",
   "metadata": {},
   "source": [
    "6 Dado um dicionário cujas chaves sejam nomes de livros e seus respectivos valores\n",
    "sejam suas quantidades em estoque, use itertools.dropwhile para retornar livros\n",
    "com quantidade maior ou igual a 2."
   ]
  },
  {
   "cell_type": "code",
   "execution_count": 50,
   "metadata": {
    "collapsed": true,
    "jupyter": {
     "outputs_hidden": true,
     "source_hidden": true
    }
   },
   "outputs": [
    {
     "name": "stdout",
     "output_type": "stream",
     "text": [
      "Sapiens 2\n",
      "Biblia 2\n",
      "Pai rico 3\n",
      "Mochilheiro glxs 4\n"
     ]
    }
   ],
   "source": [
    "import itertools as it\n",
    "books = ['Senhor dos aneis', 'Harry Potter', 'Sapiens', 'Pai rico', 'Itachi shinden', 'Mochilheiro glxs', 'Biblia']\n",
    "amount = [1, 1, 2, 3, 0, 4, 2]\n",
    "\n",
    "estoque = dict(zip(books, amount))\n",
    "\n",
    "for i in it.dropwhile(lambda est: estoque[est] < 2, sorted(estoque, key=estoque.get)):\n",
    "    print(i, estoque[i])\n"
   ]
  },
  {
   "cell_type": "markdown",
   "metadata": {},
   "source": [
    "7 Dada uma lista de alunos, quantos pares podem ser formados? Use\n",
    "itertools.combinations."
   ]
  },
  {
   "cell_type": "code",
   "execution_count": 55,
   "metadata": {},
   "outputs": [
    {
     "name": "stdout",
     "output_type": "stream",
     "text": [
      "[('Ana', 'Pedro'), ('Ana', 'Gustavo'), ('Ana', 'Clara'), ('Pedro', 'Gustavo'), ('Pedro', 'Clara'), ('Gustavo', 'Clara')] \n",
      " 6 pares\n"
     ]
    }
   ],
   "source": [
    "alunos = ['Ana', 'Pedro', 'Gustavo', 'Clara']\n",
    "    \n",
    "pares = [par for par in it.combinations(alunos, r=2)]\n",
    "print(pares, '\\n',len(pares),'pares')"
   ]
  },
  {
   "cell_type": "markdown",
   "metadata": {},
   "source": [
    "8 Quantas palavras de 4 letras podem ser formadas a partir de uma lista de 7 letras.\n",
    "Use itertools.permutations."
   ]
  },
  {
   "cell_type": "code",
   "execution_count": 79,
   "metadata": {},
   "outputs": [
    {
     "name": "stdout",
     "output_type": "stream",
     "text": [
      "840\n"
     ]
    }
   ],
   "source": [
    "letras = ['a','b','c','e','i','j','o']\n",
    "    \n",
    "words = [i for i in it.permutations(letras, r=4)]\n",
    "print(len(words))"
   ]
  },
  {
   "cell_type": "markdown",
   "metadata": {},
   "source": [
    "9 Considere um dicionário cuja chave são nomes de usuários e os respectivos valores\n",
    "são o meio de contato preferido (opções: e-mail, carta, whatsapp, telefone fixo, fax e\n",
    "celular).\n",
    "Crie uma função que retorna a quantidade de usuários que preferem e-mail. Use\n",
    "itertools.groupby()."
   ]
  },
  {
   "cell_type": "code",
   "execution_count": null,
   "metadata": {},
   "outputs": [],
   "source": []
  }
 ],
 "metadata": {
  "kernelspec": {
   "display_name": "Python 3",
   "language": "python",
   "name": "python3"
  },
  "language_info": {
   "codemirror_mode": {
    "name": "ipython",
    "version": 3
   },
   "file_extension": ".py",
   "mimetype": "text/x-python",
   "name": "python",
   "nbconvert_exporter": "python",
   "pygments_lexer": "ipython3",
   "version": "3.7.6"
  }
 },
 "nbformat": 4,
 "nbformat_minor": 4
}
